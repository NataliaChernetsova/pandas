{
 "cells": [
  {
   "cell_type": "markdown",
   "metadata": {},
   "source": [
    "# Задание 1"
   ]
  },
  {
   "cell_type": "code",
   "execution_count": 6,
   "metadata": {},
   "outputs": [
    {
     "name": "stdout",
     "output_type": "stream",
     "text": [
      "Фраза 1 длиннее 2\n"
     ]
    }
   ],
   "source": [
    "a = 'Насколько проще было бы писать программы, если бы не заказчики'\n",
    "b = '640Кб должно хватить для любых задач. Билл Гейтс (по легенде)'\n",
    "if a > b: \n",
    "    print('Фраза 1 длиннее 2')"
   ]
  },
  {
   "cell_type": "markdown",
   "metadata": {},
   "source": [
    "# Задание 2"
   ]
  },
  {
   "cell_type": "code",
   "execution_count": 3,
   "metadata": {},
   "outputs": [
    {
     "name": "stdout",
     "output_type": "stream",
     "text": [
      "Введите год1994\n",
      "1994 Обычный год\n"
     ]
    }
   ],
   "source": [
    "year = int(input('Введите год'))\n",
    "if (year % 4 == 0) and (year % 100 != 0) or (year % 400 == 0):\n",
    "    print(year, 'Високосный год')\n",
    "else:\n",
    "        print(year, 'Обычный год')"
   ]
  },
  {
   "cell_type": "markdown",
   "metadata": {},
   "source": [
    "# Задание 3"
   ]
  },
  {
   "cell_type": "code",
   "execution_count": 20,
   "metadata": {},
   "outputs": [
    {
     "name": "stdout",
     "output_type": "stream",
     "text": [
      "Введите число: 1\n",
      "Введите месяц: 4\n",
      "Знак зодиака Овен\n"
     ]
    }
   ],
   "source": [
    "day = int(input ('Введите число: '))\n",
    "month = int(input('Введите месяц: '))\n",
    "if (day >= 21 and day <= 31 and month == 3) or (month == 4 and day >= 1 and day <= 19):\n",
    "    print(\"Знак зодиака Овен\")\n",
    "elif (day >= 20 and day <= 31 and month == 4) or (month == 5 and day >= 1 and day <= 20): \n",
    "    print(\"Знак зодиака Телец\")\n",
    "elif (day >= 21 and day <= 31 and month == 4) or (day >= 1 and day <= 20 and month == 6): \n",
    "    print(\"Знак зодиака Близнецы\")\n",
    "elif (day >= 21 and day <= 31 and month == 6) or (day >= 1 and day <= 22 and month == 7): \n",
    "    print(\"Знак зодиака Рак\")\n",
    "elif (day >= 23 and day <= 31 and month == 8) or (day >= 1 and day <= 22 and month == 9):\n",
    "    print(\"Знак зодиака Дева\")\n",
    "elif (day >= 23 and day <= 31 and month == 9) or (day >= 1 and day <= 22 and month == 10): \n",
    "    print(\"Знак зодиака Весы\")\n",
    "elif (day >= 23 and day <= 31 and month == 10) or (day >= 1 and day <= 21 and month == 11):\n",
    "    print(\"Знак зодиака Скорпион\")\n",
    "elif (day >= 22 and day <= 31 and month == 11) or (day >= 1 and day <= 21 and month == 12):\n",
    "    print(\"Знак зодиака Стрелец\")\n",
    "elif (day >= 22 and day <= 31 and month == 12) or (day >= 1 and day <= 21 and month == 1): \n",
    "    print(\"Знак зодиака Козерог\")\n",
    "elif (day >= 20 and day <= 31 and month == 1) or (day >= 1 and day <= 18 and month == 2): \n",
    "    print(\"Знак зодиака Водолей\")\n",
    "elif (day >= 19 and day <= 31 and month == 2) or (day >= 1 and day <= 20 and month == 3):\n",
    "    print(\"Знак зодиака Рыбы\")"
   ]
  },
  {
   "cell_type": "markdown",
   "metadata": {},
   "source": [
    "# задание 4 \n",
    "если каждое из трех измерений менее 15 сантиметров, то выведите на экран \"Коробка №1\";\n",
    "если хотя бы одно из измерений больше 15 сантиметров, но менее 50 сантиметров, то выводите \"Коробка №2\";\n",
    "если длина товара больше 2 метров, то выводите \"Упаковка для лыж\";\n",
    "во всех остальных случаях выводите \"Стандартная коробка №3\"."
   ]
  },
  {
   "cell_type": "code",
   "execution_count": 25,
   "metadata": {},
   "outputs": [
    {
     "name": "stdout",
     "output_type": "stream",
     "text": [
      "Коробка №2 \n"
     ]
    }
   ],
   "source": [
    "width = 10\n",
    "length = 205\n",
    "height = 5\n",
    "\n",
    "if height > 200:\n",
    "    print (\"Упаковка для лыж \")\n",
    "elif (width < 15 and length < 15 and height < 15):\n",
    "    print (\"Коробка №1 \")\n",
    "elif ((width > 15 or length > 15 or heigth > 15) and (width > 50 or length > 50 or height > 50)):\n",
    "    print (\"Коробка №2 \")\n",
    "else:\n",
    "    print (\"Стандартная коробка №3\")"
   ]
  },
  {
   "cell_type": "code",
   "execution_count": null,
   "metadata": {},
   "outputs": [],
   "source": []
  }
 ],
 "metadata": {
  "kernelspec": {
   "display_name": "Python 3",
   "language": "python",
   "name": "python3"
  },
  "language_info": {
   "codemirror_mode": {
    "name": "ipython",
    "version": 3
   },
   "file_extension": ".py",
   "mimetype": "text/x-python",
   "name": "python",
   "nbconvert_exporter": "python",
   "pygments_lexer": "ipython3",
   "version": "3.8.3"
  }
 },
 "nbformat": 4,
 "nbformat_minor": 4
}
